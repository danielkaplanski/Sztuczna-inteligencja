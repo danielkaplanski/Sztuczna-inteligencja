{
  "nbformat": 4,
  "nbformat_minor": 0,
  "metadata": {
    "colab": {
      "provenance": []
    },
    "kernelspec": {
      "name": "python3",
      "display_name": "Python 3"
    },
    "language_info": {
      "name": "python"
    }
  },
  "cells": [
    {
      "cell_type": "code",
      "execution_count": 1,
      "metadata": {
        "id": "wIHlsDWQGlGu"
      },
      "outputs": [],
      "source": [
        "import numpy as np\n",
        "\n",
        "import tensorflow as tf\n",
        "import cv2\n",
        "import matplotlib.pyplot as plt\n",
        "import tensorflow_datasets as tfds"
      ]
    },
    {
      "cell_type": "code",
      "source": [
        "mnist_dataset, mnist_info = tfds.load(name='mnist', with_info=True, as_supervised=True)\n",
        "mnist_train, mnist_test = mnist_dataset['train'], mnist_dataset['test']\n",
        "num_validation_samples = 0.1 * mnist_info.splits['train'].num_examples\n",
        "num_validation_samples = tf.cast(num_validation_samples, tf.int64)\n",
        "num_test_samples = mnist_info.splits['test'].num_examples\n",
        "num_test_samples = tf.cast(num_test_samples, tf.int64)"
      ],
      "metadata": {
        "colab": {
          "base_uri": "https://localhost:8080/",
          "height": 165,
          "referenced_widgets": [
            "4422ef94eca44be5a55d64c7bcdc53a0",
            "cfcd7b6479864f92950c61c7caa02d7f",
            "25783c54ceae47c79cf5136609937052",
            "1d0cd3e5da064ee6ac56563c76fbb1d5",
            "991922002a2942389b5490694c8952f4",
            "6c515f42e2af4c5aa45846fff65b347b",
            "4c751db5cb424732bd3931768b02c7f3",
            "fae7ea08119147698b39c1703c1664d5",
            "205046f6613f48c0957e21c9fe5097be",
            "532da81a169f45c5872785dd1445157f",
            "070862a098364b58a94c9d051a021f8d",
            "c3ea8c37b77b4e548d0b06063b04c60d",
            "0dee2ede81514ac4a670fdcfe5a92632",
            "2534748e0a1541ed980fa0ef15a6024f",
            "2c91a972d7584b778004d2a9c5a721eb",
            "915ba50f879145cebc8341e866f652f0",
            "9d72b78ac4a947c4888187eb886dcb08",
            "f0670216ead64945b0d621c1276db13e",
            "edbe2479778247b19281e2529736f26e",
            "c6cf8b67ad5540ea908feb0cfb3b5f4c",
            "cb9e87d45e9642979cba75e046da1c47",
            "69d85330eff54719abdd2ebbd4c724ff",
            "86678bba6ea242629a5f052561069450",
            "ab161557b2e74a2e8c5d9d0a764dd084",
            "6da08948860147cd85e171075070f85f",
            "d09ef98988404f199b96bd3d02e1d71c",
            "13bdf9bd65aa4bc4bfdf4d4d387441fc",
            "7ea4c609f14f4e2491152830d1623f13",
            "712d0de0cc154e60a9a9bff6c2286ee1",
            "9621cd5b97104de7ab419b976ed6b493",
            "ecf16a8fffdb49fab4ec878a3f4cf7db",
            "4e1136f5e12a4fe39639d44854bd2845",
            "b1f98a2f79ca48bda4f71fbe44a272fd",
            "bff8bbae9aea4f36992506e33ae3763a",
            "4cefbc2f8d8d4eb090983944bb619110",
            "66b9e9adc8fc4ebcb878243360afd0ee",
            "56519dba5264453298cae74ba4465e01",
            "c4f081bad557451981d2b01e40b96637",
            "21b3fac476994dfea38beec92509dae7",
            "42725b277c544a66beda7d53c9c40eb2",
            "4a00c0f3fb5942d59e22da53db40d369",
            "f2bdede2ed584db2aecd63190d573cfd",
            "fb2f4b30b91d463bb9a7c6c86dc95a73",
            "bce0ee0586334598a5debd6d6890a8d2",
            "cda578baaec84cb582107abc788e5c3f",
            "329c15374956450e965f1878d6783e88",
            "a6097df0d4c545a79c29d461c05aece4",
            "70ac2fe68af74758b41091c2c7564240",
            "474c46eb131b4c9ba1708d4006086d00",
            "d81f4b821a7049b18f89e22864212142",
            "6505cbc5c3204667a794b6e3b5b0a8c6",
            "510923684cf94cb582da09822a473f32",
            "c522560f9fc24afaa923993723201c9c",
            "bf246d2e506543ebb847d3d67e94c126",
            "4e4bf473902b423d861c5436588df640",
            "8c8d419552c44068b3f3cc8167c12dd7",
            "332523f3e9044810a9251ab4e73d48ad",
            "57c0c45726e448559df1d2a4b351e609",
            "89a4f33df637487594cd16098f52090d",
            "1b63bc9d2a4846d0b004ddef87b196b5",
            "5dbdf491458c44fea220aeaf47b463a5",
            "defd9fa2a7f0444aa7c6036bdf3c7e38",
            "ce245159ce4045409ba982f623f56e0a",
            "2678c5b1d15049a1af131950e0610598",
            "967394f258a44e738aa318ae825b3a46",
            "5bc1607332cd4db1a7066034d5cac704",
            "53dc776e7e244c778cefb2956ee424a3",
            "99397a1c40fe411aa530c9650ecbe0b4",
            "d38e6ed1c04f4e0fa653d26f0f6e5b1d",
            "3f7cbfec336741d2abd7553b64b05578",
            "2635c30497454e77993e8969b10704a2",
            "147d3658c50f423e90328fa499792c0c",
            "98095b2b6fb74fa5805c32fcc31ee61b",
            "5b7a37c5d02a465aa1d5359914cdebbe",
            "cbf0fb70441449bd82efbe634124c10a",
            "6782635d4a3e416aa588e1db77387fa7",
            "a4692fa7f93a40ab8037f86f09dd5d89",
            "7f473359fb1b49939f607e11dde3d0c1",
            "8f184517a9de477e9ffc361eafbea6ee",
            "22a8dbeaf3fb44b3a3ea967373b1a771",
            "b2b8b8cbd5044e1ea3aa76ff4cc47290",
            "e6f0ada1fb3e425daf0be71505565e3b",
            "27f566c820b24f80a4a865c98ce6d526",
            "68494aa99f20426fabe02b42790968a2",
            "00af4631402041878c4aa6ed8bdab53a",
            "a463869405b84316afc9b536b20db8fa",
            "21835693fe85477eac0c58016024a542",
            "17ed1b4d4f64422fbd3794d18c4598e6"
          ]
        },
        "id": "fi-_l4ZxGvlu",
        "outputId": "46f3a2f2-dc7b-4d25-aeec-f82491f159de"
      },
      "execution_count": 2,
      "outputs": [
        {
          "output_type": "stream",
          "name": "stderr",
          "text": [
            "WARNING:absl:Variant folder /root/tensorflow_datasets/mnist/3.0.1 has no dataset_info.json\n"
          ]
        },
        {
          "output_type": "stream",
          "name": "stdout",
          "text": [
            "Downloading and preparing dataset Unknown size (download: Unknown size, generated: Unknown size, total: Unknown size) to /root/tensorflow_datasets/mnist/3.0.1...\n"
          ]
        },
        {
          "output_type": "display_data",
          "data": {
            "text/plain": [
              "Dl Completed...: 0 url [00:00, ? url/s]"
            ],
            "application/vnd.jupyter.widget-view+json": {
              "version_major": 2,
              "version_minor": 0,
              "model_id": "4422ef94eca44be5a55d64c7bcdc53a0"
            }
          },
          "metadata": {}
        },
        {
          "output_type": "display_data",
          "data": {
            "text/plain": [
              "Dl Size...: 0 MiB [00:00, ? MiB/s]"
            ],
            "application/vnd.jupyter.widget-view+json": {
              "version_major": 2,
              "version_minor": 0,
              "model_id": "c3ea8c37b77b4e548d0b06063b04c60d"
            }
          },
          "metadata": {}
        },
        {
          "output_type": "display_data",
          "data": {
            "text/plain": [
              "Extraction completed...: 0 file [00:00, ? file/s]"
            ],
            "application/vnd.jupyter.widget-view+json": {
              "version_major": 2,
              "version_minor": 0,
              "model_id": "86678bba6ea242629a5f052561069450"
            }
          },
          "metadata": {}
        },
        {
          "output_type": "display_data",
          "data": {
            "text/plain": [
              "Generating splits...:   0%|          | 0/2 [00:00<?, ? splits/s]"
            ],
            "application/vnd.jupyter.widget-view+json": {
              "version_major": 2,
              "version_minor": 0,
              "model_id": "bff8bbae9aea4f36992506e33ae3763a"
            }
          },
          "metadata": {}
        },
        {
          "output_type": "display_data",
          "data": {
            "text/plain": [
              "Generating train examples...: 0 examples [00:00, ? examples/s]"
            ],
            "application/vnd.jupyter.widget-view+json": {
              "version_major": 2,
              "version_minor": 0,
              "model_id": "cda578baaec84cb582107abc788e5c3f"
            }
          },
          "metadata": {}
        },
        {
          "output_type": "display_data",
          "data": {
            "text/plain": [
              "Shuffling /root/tensorflow_datasets/mnist/incomplete.EZ1RI6_3.0.1/mnist-train.tfrecord*...:   0%|          | 0…"
            ],
            "application/vnd.jupyter.widget-view+json": {
              "version_major": 2,
              "version_minor": 0,
              "model_id": "8c8d419552c44068b3f3cc8167c12dd7"
            }
          },
          "metadata": {}
        },
        {
          "output_type": "display_data",
          "data": {
            "text/plain": [
              "Generating test examples...: 0 examples [00:00, ? examples/s]"
            ],
            "application/vnd.jupyter.widget-view+json": {
              "version_major": 2,
              "version_minor": 0,
              "model_id": "53dc776e7e244c778cefb2956ee424a3"
            }
          },
          "metadata": {}
        },
        {
          "output_type": "display_data",
          "data": {
            "text/plain": [
              "Shuffling /root/tensorflow_datasets/mnist/incomplete.EZ1RI6_3.0.1/mnist-test.tfrecord*...:   0%|          | 0/…"
            ],
            "application/vnd.jupyter.widget-view+json": {
              "version_major": 2,
              "version_minor": 0,
              "model_id": "7f473359fb1b49939f607e11dde3d0c1"
            }
          },
          "metadata": {}
        },
        {
          "output_type": "stream",
          "name": "stdout",
          "text": [
            "Dataset mnist downloaded and prepared to /root/tensorflow_datasets/mnist/3.0.1. Subsequent calls will reuse this data.\n"
          ]
        }
      ]
    },
    {
      "cell_type": "code",
      "source": [
        "def scale(image, label):\n",
        "  image = tf.cast(image, tf.float32)\n",
        "  image /= 255.\n",
        "  return image, label\n",
        "scaled_train_and_validation_data = mnist_train.map(scale)\n",
        "test_data = mnist_test.map(scale)"
      ],
      "metadata": {
        "id": "cOyy6hpPGw-V"
      },
      "execution_count": 3,
      "outputs": []
    },
    {
      "cell_type": "code",
      "source": [
        "BUFFER_SIZE = 1000\n",
        "shuffled_train_and_validation_data = scaled_train_and_validation_data.shuffle(BUFFER_SIZE)\n",
        "validation_data = shuffled_train_and_validation_data.take(num_validation_samples)\n",
        "train_data = shuffled_train_and_validation_data.skip(num_validation_samples)"
      ],
      "metadata": {
        "id": "hIpH_cRWHEUh"
      },
      "execution_count": 4,
      "outputs": []
    },
    {
      "cell_type": "code",
      "source": [
        "BATCH_SIZE = 100\n",
        "train_data = train_data.batch(BATCH_SIZE)\n",
        "validation_data = validation_data.batch(num_validation_samples)\n",
        "test_data = test_data.batch(num_test_samples)\n",
        "validation_inputs, validation_targets = next(iter(validation_data))\n",
        "print(validation_inputs.shape, validation_targets.shape)"
      ],
      "metadata": {
        "colab": {
          "base_uri": "https://localhost:8080/"
        },
        "id": "iPBv4dEjHFY5",
        "outputId": "8529d429-e77e-4060-cd33-c8df14b50294"
      },
      "execution_count": 5,
      "outputs": [
        {
          "output_type": "stream",
          "name": "stdout",
          "text": [
            "(6000, 28, 28, 1) (6000,)\n"
          ]
        }
      ]
    },
    {
      "cell_type": "code",
      "source": [
        "input_size = 784\n",
        "output_size = 10\n",
        "\n",
        "hidden_layer_size = 50\n",
        "\n",
        "model = tf.keras.Sequential([\n",
        "          tf.keras.layers.Flatten(input_shape=(28,28,1)),\n",
        "          tf.keras.layers.Dense(hidden_layer_size, activation='relu'),\n",
        "          tf.keras.layers.Dense(hidden_layer_size, activation='relu'),\n",
        "          tf.keras.layers.Dense(output_size, activation='softmax')\n",
        "])\n",
        "\n",
        "model.compile(optimizer='adam', loss='sparse_categorical_crossentropy', metrics=['accuracy'])"
      ],
      "metadata": {
        "colab": {
          "base_uri": "https://localhost:8080/"
        },
        "id": "qB0MmeMJHHTp",
        "outputId": "830e1ef4-64b7-45fd-abf8-3e03a76a2167"
      },
      "execution_count": 6,
      "outputs": [
        {
          "output_type": "stream",
          "name": "stderr",
          "text": [
            "/usr/local/lib/python3.11/dist-packages/keras/src/layers/reshaping/flatten.py:37: UserWarning: Do not pass an `input_shape`/`input_dim` argument to a layer. When using Sequential models, prefer using an `Input(shape)` object as the first layer in the model instead.\n",
            "  super().__init__(**kwargs)\n"
          ]
        }
      ]
    },
    {
      "cell_type": "code",
      "source": [
        "NUM_EPOCHS = 30\n",
        "\n",
        "early_stopping = tf.keras.callbacks.EarlyStopping(patience=2)\n",
        "\n",
        "model.fit(train_data,\n",
        "          epochs=NUM_EPOCHS,\n",
        "          callbacks=[early_stopping],\n",
        "          validation_data=(validation_inputs, validation_targets),\n",
        "          verbose = 1)"
      ],
      "metadata": {
        "colab": {
          "base_uri": "https://localhost:8080/"
        },
        "id": "E2TStXXTHLSZ",
        "outputId": "5141afe0-9926-42cb-d9c8-e4924221df7a"
      },
      "execution_count": 7,
      "outputs": [
        {
          "output_type": "stream",
          "name": "stdout",
          "text": [
            "Epoch 1/30\n",
            "\u001b[1m540/540\u001b[0m \u001b[32m━━━━━━━━━━━━━━━━━━━━\u001b[0m\u001b[37m\u001b[0m \u001b[1m10s\u001b[0m 16ms/step - accuracy: 0.7912 - loss: 0.7275 - val_accuracy: 0.9382 - val_loss: 0.2165\n",
            "Epoch 2/30\n",
            "\u001b[1m540/540\u001b[0m \u001b[32m━━━━━━━━━━━━━━━━━━━━\u001b[0m\u001b[37m\u001b[0m \u001b[1m4s\u001b[0m 7ms/step - accuracy: 0.9478 - loss: 0.1826 - val_accuracy: 0.9560 - val_loss: 0.1543\n",
            "Epoch 3/30\n",
            "\u001b[1m540/540\u001b[0m \u001b[32m━━━━━━━━━━━━━━━━━━━━\u001b[0m\u001b[37m\u001b[0m \u001b[1m5s\u001b[0m 8ms/step - accuracy: 0.9619 - loss: 0.1314 - val_accuracy: 0.9623 - val_loss: 0.1292\n",
            "Epoch 4/30\n",
            "\u001b[1m540/540\u001b[0m \u001b[32m━━━━━━━━━━━━━━━━━━━━\u001b[0m\u001b[37m\u001b[0m \u001b[1m5s\u001b[0m 8ms/step - accuracy: 0.9691 - loss: 0.1093 - val_accuracy: 0.9633 - val_loss: 0.1222\n",
            "Epoch 5/30\n",
            "\u001b[1m540/540\u001b[0m \u001b[32m━━━━━━━━━━━━━━━━━━━━\u001b[0m\u001b[37m\u001b[0m \u001b[1m4s\u001b[0m 8ms/step - accuracy: 0.9740 - loss: 0.0893 - val_accuracy: 0.9632 - val_loss: 0.1153\n",
            "Epoch 6/30\n",
            "\u001b[1m540/540\u001b[0m \u001b[32m━━━━━━━━━━━━━━━━━━━━\u001b[0m\u001b[37m\u001b[0m \u001b[1m6s\u001b[0m 10ms/step - accuracy: 0.9775 - loss: 0.0775 - val_accuracy: 0.9675 - val_loss: 0.1108\n",
            "Epoch 7/30\n",
            "\u001b[1m540/540\u001b[0m \u001b[32m━━━━━━━━━━━━━━━━━━━━\u001b[0m\u001b[37m\u001b[0m \u001b[1m4s\u001b[0m 7ms/step - accuracy: 0.9797 - loss: 0.0693 - val_accuracy: 0.9692 - val_loss: 0.1047\n",
            "Epoch 8/30\n",
            "\u001b[1m540/540\u001b[0m \u001b[32m━━━━━━━━━━━━━━━━━━━━\u001b[0m\u001b[37m\u001b[0m \u001b[1m4s\u001b[0m 7ms/step - accuracy: 0.9817 - loss: 0.0604 - val_accuracy: 0.9680 - val_loss: 0.1062\n",
            "Epoch 9/30\n",
            "\u001b[1m540/540\u001b[0m \u001b[32m━━━━━━━━━━━━━━━━━━━━\u001b[0m\u001b[37m\u001b[0m \u001b[1m6s\u001b[0m 11ms/step - accuracy: 0.9831 - loss: 0.0539 - val_accuracy: 0.9673 - val_loss: 0.1137\n"
          ]
        },
        {
          "output_type": "execute_result",
          "data": {
            "text/plain": [
              "<keras.src.callbacks.history.History at 0x7881b17bb150>"
            ]
          },
          "metadata": {},
          "execution_count": 7
        }
      ]
    },
    {
      "cell_type": "code",
      "source": [
        "test_loss, test_accuracy = model.evaluate(test_data)\n",
        "print('Test loss: {0:.2f}. Test accuracy: {1:.2f}%'.format(test_loss, test_accuracy*100.))"
      ],
      "metadata": {
        "colab": {
          "base_uri": "https://localhost:8080/"
        },
        "id": "ujfxwFgDHcLE",
        "outputId": "a6b0d313-64ac-4e49-f132-1fd51698fb42"
      },
      "execution_count": 8,
      "outputs": [
        {
          "output_type": "stream",
          "name": "stdout",
          "text": [
            "\u001b[1m1/1\u001b[0m \u001b[32m━━━━━━━━━━━━━━━━━━━━\u001b[0m\u001b[37m\u001b[0m \u001b[1m2s\u001b[0m 2s/step - accuracy: 0.9700 - loss: 0.1010\n",
            "Test loss: 0.10. Test accuracy: 97.00%\n"
          ]
        }
      ]
    },
    {
      "cell_type": "code",
      "source": [
        "image_path = '/content/my_digit.PNG'\n",
        "img = cv2.imread(image_path, cv2.IMREAD_GRAYSCALE)\n",
        "img_resized = cv2.resize(img, (28, 28))\n",
        "plt.imshow(img_resized, cmap='gray')\n",
        "plt.title(\"Obrazek wejściowy\")\n",
        "plt.show()\n",
        "img_normalized = img_resized.astype('float32') / 255.0\n",
        "img_reshaped = img_normalized.reshape(1, 28, 28, 1)\n",
        "prediction = model.predict(img_reshaped)\n",
        "predicted_label = np.argmax(prediction)\n",
        "print(f\"Model przewidział cyfrę: {predicted_label}\")\n"
      ],
      "metadata": {
        "colab": {
          "base_uri": "https://localhost:8080/",
          "height": 488
        },
        "id": "_Vj-02HNHf50",
        "outputId": "c6eb400a-37e7-4c52-8b8f-b1dc14485583"
      },
      "execution_count": 9,
      "outputs": [
        {
          "output_type": "display_data",
          "data": {
            "text/plain": [
              "<Figure size 640x480 with 1 Axes>"
            ],
            "image/png": "[encoded data removed]"
          },
          "metadata": {}
        },
        {
          "output_type": "stream",
          "name": "stdout",
          "text": [
            "\u001b[1m1/1\u001b[0m \u001b[32m━━━━━━━━━━━━━━━━━━━━\u001b[0m\u001b[37m\u001b[0m \u001b[1m0s\u001b[0m 79ms/step\n",
            "Model przewidział cyfrę: 6\n"
          ]
        }
      ]
    }
  ]
}